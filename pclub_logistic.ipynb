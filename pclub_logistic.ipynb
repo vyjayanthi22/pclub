{
 "cells": [
  {
   "cell_type": "code",
   "execution_count": 22,
   "metadata": {},
   "outputs": [],
   "source": [
    "import pandas as pd\n",
    "import numpy as np \n",
    "import matplotlib.pyplot as plt\n"
   ]
  },
  {
   "cell_type": "code",
   "execution_count": 23,
   "metadata": {},
   "outputs": [],
   "source": [
    "data = pd.read_csv(\"Downloads/diabetes.csv\")\n",
    "\n"
   ]
  },
  {
   "cell_type": "code",
   "execution_count": 31,
   "metadata": {},
   "outputs": [],
   "source": [
    "\n",
    "\n",
    "y = data.Outcome.values\n",
    "x = data.drop([\"Outcome\"], axis = 1)\n",
    "\n",
    "x = (x - np.min(x))/(np.max(x)-np.min(x)).values"
   ]
  },
  {
   "cell_type": "code",
   "execution_count": 49,
   "metadata": {},
   "outputs": [
    {
     "name": "stdout",
     "output_type": "stream",
     "text": [
      "features:  (8, 758)\n",
      "labels:  (758,)\n",
      "test_features:  (8, 10)\n",
      "test_labels:  (10,)\n"
     ]
    }
   ],
   "source": [
    "\n",
    "\n",
    "n =len(x)\n",
    "\n",
    "x_train, x_test, y_train, y_test = x[(8000//n):],x[:int((8000/n))],y[(8000//n):],y[:(8000//n)]\n",
    "\n",
    "\n",
    "features = x_train.T\n",
    "labels = y_train.T\n",
    "test_features = x_test.T\n",
    "test_labels = y_test.T\n",
    "\n",
    "# print(\"features: \", features.shape)\n",
    "# print(\"labels: \", labels.shape)\n",
    "# print(\"test_features: \", test_features.shape)\n",
    "# print(\"test_labels: \", test_labels.shape)"
   ]
  },
  {
   "cell_type": "code",
   "execution_count": 50,
   "metadata": {},
   "outputs": [],
   "source": [
    " \n",
    "def initialize_weights_and_bias(dimension):\n",
    "    w = np.full((dimension, 1),0.01)\n",
    "    b= 0.0\n",
    "    return w,b"
   ]
  },
  {
   "cell_type": "code",
   "execution_count": 51,
   "metadata": {},
   "outputs": [],
   "source": [
    "def sigmoid(z):\n",
    "    y_head = 1/(1+np.exp(-z))\n",
    "    return y_head"
   ]
  },
  {
   "cell_type": "code",
   "execution_count": 52,
   "metadata": {},
   "outputs": [],
   "source": [
    "\n",
    "\n",
    "def foward_and_backward_propagation(w, b, x_train, y_train):\n",
    "    #Forward Propagation\n",
    "    z = np.dot(w.T, x_train) + b\n",
    "    y_head = sigmoid(z)\n",
    "    loss = -y_train*np.log(y_head)-(1-y_train)*np.log(1-y_head)\n",
    "    cost = (np.sum(loss))/x_train.shape[1]          #x_train.shape[1] is for scaling\n",
    "    \n",
    "    # Backward Propagation\n",
    "    derivative_weight = (np.dot(x_train, ((y_head-y_train).T)))/x_train.shape[1]\n",
    "    derivative_bias = np.sum(y_head-y_train)/x_train.shape[1]\n",
    "    gradients = {\"derivative_weight\": derivative_weight, \"derivative_bias\": derivative_bias}\n",
    "    \n",
    "    return cost, gradients"
   ]
  },
  {
   "cell_type": "code",
   "execution_count": 53,
   "metadata": {},
   "outputs": [],
   "source": [
    "def update(w, b, x_train, y_train, learning_rate, number_of_iterations):\n",
    "    cost_list = []\n",
    "    cost_list2 = []\n",
    "    index = []\n",
    "    \n",
    "    # Updating (learning) parameters is number_of_iterations times\n",
    "    for i in range(number_of_iterations):\n",
    "        \n",
    "        cost, gradients = foward_and_backward_propagation(w, b, x_train, y_train)\n",
    "        cost_list.append(cost)\n",
    "        #Let's update\n",
    "        w = w - learning_rate * gradients[\"derivative_weight\"]\n",
    "        b = b - learning_rate * gradients[\"derivative_bias\"]\n",
    "        if i % 10 == 0:\n",
    "            cost_list2.append(cost)\n",
    "            index.append(i)\n",
    "            print(\"Cost after iterations %i: %f\" %(i, cost))\n",
    "            \n",
    "    # We update (learn) parameters weights and bias\n",
    "    parameters = {\"weight\": w, \"bias\": b}\n",
    "    plt.plot(index, cost_list2)\n",
    "    plt.title(\"Cost-Iteration Relation\")\n",
    "    plt.xticks(index, rotation = \"vertical\")\n",
    "    plt.xlabel(\"Number of iterations\")\n",
    "    plt.ylabel(\"Cost\")\n",
    "    plt.show()\n",
    "    return parameters, gradients, cost_list"
   ]
  },
  {
   "cell_type": "code",
   "execution_count": 54,
   "metadata": {},
   "outputs": [],
   "source": [
    "def predict(w, b, x_test):\n",
    "    # x_test is a input for forward propagation\n",
    "    z = sigmoid(np.dot(w.T, x_test)+b)\n",
    "    y_prediction = np.zeros((1, x_test.shape[1]))\n",
    "    #\n",
    "    #\n",
    "    for i in range(z.shape[1]):\n",
    "        if z[0, i] <= 0.5:\n",
    "            y_prediction[0, i] = 0\n",
    "        else:\n",
    "            y_prediction[0, i] = 1\n",
    "            \n",
    "    return y_prediction"
   ]
  },
  {
   "cell_type": "code",
   "execution_count": 67,
   "metadata": {},
   "outputs": [
    {
     "name": "stdout",
     "output_type": "stream",
     "text": [
      "Cost after iterations 0: 0.695924\n",
      "Cost after iterations 10: 0.632291\n",
      "Cost after iterations 20: 0.612366\n",
      "Cost after iterations 30: 0.596234\n",
      "Cost after iterations 40: 0.582958\n",
      "Cost after iterations 50: 0.571860\n",
      "Cost after iterations 60: 0.562450\n",
      "Cost after iterations 70: 0.554371\n",
      "Cost after iterations 80: 0.547357\n",
      "Cost after iterations 90: 0.541210\n",
      "Cost after iterations 100: 0.535778\n",
      "Cost after iterations 110: 0.530942\n",
      "Cost after iterations 120: 0.526611\n",
      "Cost after iterations 130: 0.522708\n",
      "Cost after iterations 140: 0.519175\n",
      "Cost after iterations 150: 0.515962\n",
      "Cost after iterations 160: 0.513028\n",
      "Cost after iterations 170: 0.510339\n",
      "Cost after iterations 180: 0.507866\n",
      "Cost after iterations 190: 0.505585\n",
      "Cost after iterations 200: 0.503476\n",
      "Cost after iterations 210: 0.501521\n",
      "Cost after iterations 220: 0.499703\n",
      "Cost after iterations 230: 0.498010\n",
      "Cost after iterations 240: 0.496430\n",
      "Cost after iterations 250: 0.494953\n",
      "Cost after iterations 260: 0.493569\n",
      "Cost after iterations 270: 0.492271\n",
      "Cost after iterations 280: 0.491052\n",
      "Cost after iterations 290: 0.489904\n"
     ]
    },
    {
     "data": {
      "image/png": "[encoded data removed]",
      "text/plain": [
       "<Figure size 432x288 with 1 Axes>"
      ]
     },
     "metadata": {
      "needs_background": "light"
     },
     "output_type": "display_data"
    }
   ],
   "source": [
    "def train_logistic_regression(features, labels, learning_rate ,  num_iterations):\n",
    "    # Initialize\n",
    "    dimension =  features.shape[0]  # It is 8\n",
    "    w,b = initialize_weights_and_bias(dimension)\n",
    "    parameters, gradients, cost_list = update(w, b, features, labels, learning_rate,num_iterations)\n",
    "\n",
    "    return parameters\n",
    "\n",
    "    \n",
    "params = train_logistic_regression(features, labels,learning_rate = 1.5, num_iterations = 300)\n"
   ]
  },
  {
   "cell_type": "code",
   "execution_count": 68,
   "metadata": {},
   "outputs": [
    {
     "name": "stdout",
     "output_type": "stream",
     "text": [
      "test accuracy: 70.0 %\n"
     ]
    }
   ],
   "source": [
    "def test_logistic_regression(params, test_features, test_labels, learning_rate ,  num_iterations):\n",
    " \n",
    "    y_prediction_test = predict(params[\"weight\"],params[\"bias\"],test_features)\n",
    "    # Print test errors\n",
    "    print(\"test accuracy: {} %\".format(100 - np.mean(np.abs(y_prediction_test - test_labels)) * 100))\n",
    "test_logistic_regression(params, test_features,test_labels,learning_rate = 1.5, num_iterations = 300)"
   ]
  },
  {
   "cell_type": "code",
   "execution_count": null,
   "metadata": {},
   "outputs": [],
   "source": []
  }
 ],
 "metadata": {
  "kernelspec": {
   "display_name": "Python 3",
   "language": "python",
   "name": "python3"
  },
  "language_info": {
   "codemirror_mode": {
    "name": "ipython",
    "version": 3
   },
   "file_extension": ".py",
   "mimetype": "text/x-python",
   "name": "python",
   "nbconvert_exporter": "python",
   "pygments_lexer": "ipython3",
   "version": "3.8.5"
  }
 },
 "nbformat": 4,
 "nbformat_minor": 4
}
